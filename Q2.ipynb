{
 "cells": [
  {
   "cell_type": "code",
   "execution_count": 1,
   "metadata": {},
   "outputs": [],
   "source": [
    "import numpy as np\n",
    "import pandas as pd\n",
    "from scipy.cluster.hierarchy import linkage, dendrogram\n",
    "import matplotlib.pyplot as plt\n",
    "from sklearn.preprocessing import LabelEncoder"
   ]
  },
  {
   "cell_type": "code",
   "execution_count": 101,
   "metadata": {},
   "outputs": [],
   "source": [
    "df = pd.read_csv(\"coins_data.csv\")"
   ]
  },
  {
   "cell_type": "code",
   "execution_count": 102,
   "metadata": {},
   "outputs": [
    {
     "data": {
      "text/html": [
       "<div>\n",
       "<style scoped>\n",
       "    .dataframe tbody tr th:only-of-type {\n",
       "        vertical-align: middle;\n",
       "    }\n",
       "\n",
       "    .dataframe tbody tr th {\n",
       "        vertical-align: top;\n",
       "    }\n",
       "\n",
       "    .dataframe thead th {\n",
       "        text-align: right;\n",
       "    }\n",
       "</style>\n",
       "<table border=\"1\" class=\"dataframe\">\n",
       "  <thead>\n",
       "    <tr style=\"text-align: right;\">\n",
       "      <th></th>\n",
       "      <th>Symbol</th>\n",
       "      <th>Volume</th>\n",
       "      <th>MarketCap</th>\n",
       "      <th>TotalSupply</th>\n",
       "      <th>ProofType</th>\n",
       "      <th>Network</th>\n",
       "    </tr>\n",
       "  </thead>\n",
       "  <tbody>\n",
       "    <tr>\n",
       "      <th>0</th>\n",
       "      <td>LEO</td>\n",
       "      <td>1.823284e+06</td>\n",
       "      <td>3586504072</td>\n",
       "      <td>985,239,504</td>\n",
       "      <td>PoS</td>\n",
       "      <td>Ethereum</td>\n",
       "    </tr>\n",
       "    <tr>\n",
       "      <th>1</th>\n",
       "      <td>UNI</td>\n",
       "      <td>9.918768e+07</td>\n",
       "      <td>3992451215</td>\n",
       "      <td>1,000,000,000</td>\n",
       "      <td>PoS</td>\n",
       "      <td>Ethereum</td>\n",
       "    </tr>\n",
       "    <tr>\n",
       "      <th>2</th>\n",
       "      <td>WBTC</td>\n",
       "      <td>1.415410e+08</td>\n",
       "      <td>4237575489</td>\n",
       "      <td>163,106</td>\n",
       "      <td>PoW</td>\n",
       "      <td>Ethereum</td>\n",
       "    </tr>\n",
       "    <tr>\n",
       "      <th>3</th>\n",
       "      <td>AVAX</td>\n",
       "      <td>2.197065e+08</td>\n",
       "      <td>4901630273</td>\n",
       "      <td>431,804,080</td>\n",
       "      <td>PoS</td>\n",
       "      <td>Avalanche</td>\n",
       "    </tr>\n",
       "    <tr>\n",
       "      <th>4</th>\n",
       "      <td>DAI</td>\n",
       "      <td>2.177113e+08</td>\n",
       "      <td>5513660644</td>\n",
       "      <td>5,347,888,596</td>\n",
       "      <td>stablecoin</td>\n",
       "      <td>Ethereum</td>\n",
       "    </tr>\n",
       "  </tbody>\n",
       "</table>\n",
       "</div>"
      ],
      "text/plain": [
       "  Symbol        Volume   MarketCap    TotalSupply   ProofType    Network\n",
       "0    LEO  1.823284e+06  3586504072    985,239,504         PoS   Ethereum\n",
       "1    UNI  9.918768e+07  3992451215  1,000,000,000         PoS   Ethereum\n",
       "2   WBTC  1.415410e+08  4237575489        163,106         PoW   Ethereum\n",
       "3   AVAX  2.197065e+08  4901630273    431,804,080         PoS  Avalanche\n",
       "4    DAI  2.177113e+08  5513660644  5,347,888,596  stablecoin   Ethereum"
      ]
     },
     "execution_count": 102,
     "metadata": {},
     "output_type": "execute_result"
    }
   ],
   "source": [
    "df.head()"
   ]
  },
  {
   "cell_type": "code",
   "execution_count": 103,
   "metadata": {},
   "outputs": [
    {
     "data": {
      "text/html": [
       "<div>\n",
       "<style scoped>\n",
       "    .dataframe tbody tr th:only-of-type {\n",
       "        vertical-align: middle;\n",
       "    }\n",
       "\n",
       "    .dataframe tbody tr th {\n",
       "        vertical-align: top;\n",
       "    }\n",
       "\n",
       "    .dataframe thead th {\n",
       "        text-align: right;\n",
       "    }\n",
       "</style>\n",
       "<table border=\"1\" class=\"dataframe\">\n",
       "  <thead>\n",
       "    <tr style=\"text-align: right;\">\n",
       "      <th></th>\n",
       "      <th>Volume</th>\n",
       "      <th>MarketCap</th>\n",
       "    </tr>\n",
       "  </thead>\n",
       "  <tbody>\n",
       "    <tr>\n",
       "      <th>count</th>\n",
       "      <td>2.000000e+01</td>\n",
       "      <td>2.000000e+01</td>\n",
       "    </tr>\n",
       "    <tr>\n",
       "      <th>mean</th>\n",
       "      <td>3.989441e+09</td>\n",
       "      <td>4.662433e+10</td>\n",
       "    </tr>\n",
       "    <tr>\n",
       "      <th>std</th>\n",
       "      <td>8.674327e+09</td>\n",
       "      <td>1.066258e+11</td>\n",
       "    </tr>\n",
       "    <tr>\n",
       "      <th>min</th>\n",
       "      <td>1.823284e+06</td>\n",
       "      <td>3.586504e+09</td>\n",
       "    </tr>\n",
       "    <tr>\n",
       "      <th>25%</th>\n",
       "      <td>2.192077e+08</td>\n",
       "      <td>5.583104e+09</td>\n",
       "    </tr>\n",
       "    <tr>\n",
       "      <th>50%</th>\n",
       "      <td>5.073004e+08</td>\n",
       "      <td>8.201589e+09</td>\n",
       "    </tr>\n",
       "    <tr>\n",
       "      <th>75%</th>\n",
       "      <td>1.928351e+09</td>\n",
       "      <td>2.701560e+10</td>\n",
       "    </tr>\n",
       "    <tr>\n",
       "      <th>max</th>\n",
       "      <td>3.314948e+10</td>\n",
       "      <td>4.590837e+11</td>\n",
       "    </tr>\n",
       "  </tbody>\n",
       "</table>\n",
       "</div>"
      ],
      "text/plain": [
       "             Volume     MarketCap\n",
       "count  2.000000e+01  2.000000e+01\n",
       "mean   3.989441e+09  4.662433e+10\n",
       "std    8.674327e+09  1.066258e+11\n",
       "min    1.823284e+06  3.586504e+09\n",
       "25%    2.192077e+08  5.583104e+09\n",
       "50%    5.073004e+08  8.201589e+09\n",
       "75%    1.928351e+09  2.701560e+10\n",
       "max    3.314948e+10  4.590837e+11"
      ]
     },
     "execution_count": 103,
     "metadata": {},
     "output_type": "execute_result"
    }
   ],
   "source": [
    "df.describe()"
   ]
  },
  {
   "cell_type": "code",
   "execution_count": 104,
   "metadata": {},
   "outputs": [
    {
     "name": "stdout",
     "output_type": "stream",
     "text": [
      "<class 'pandas.core.frame.DataFrame'>\n",
      "RangeIndex: 20 entries, 0 to 19\n",
      "Data columns (total 6 columns):\n",
      " #   Column       Non-Null Count  Dtype  \n",
      "---  ------       --------------  -----  \n",
      " 0   Symbol       20 non-null     object \n",
      " 1   Volume       20 non-null     float64\n",
      " 2   MarketCap    20 non-null     int64  \n",
      " 3   TotalSupply  20 non-null     object \n",
      " 4   ProofType    20 non-null     object \n",
      " 5   Network      20 non-null     object \n",
      "dtypes: float64(1), int64(1), object(4)\n",
      "memory usage: 1.1+ KB\n"
     ]
    }
   ],
   "source": [
    "df.info()"
   ]
  },
  {
   "cell_type": "code",
   "execution_count": 105,
   "metadata": {},
   "outputs": [
    {
     "data": {
      "text/plain": [
       "0             985,239,504\n",
       "1           1,000,000,000\n",
       "2                 163,106\n",
       "3             431,804,080\n",
       "4           5,347,888,596\n",
       "5     589,589,040,239,380\n",
       "6              84,000,000\n",
       "7          88,996,805,683\n",
       "8           1,364,182,225\n",
       "9          10,000,000,000\n",
       "10            559,509,636\n",
       "11        141,339,436,384\n",
       "12         36,244,287,753\n",
       "13          2,213,836,281\n",
       "14         99,988,380,689\n",
       "15         25,540,319,537\n",
       "16            153,845,639\n",
       "17         866,300,000.00\n",
       "18            120,249,203\n",
       "19             19,508,418\n",
       "Name: TotalSupply, dtype: object"
      ]
     },
     "execution_count": 105,
     "metadata": {},
     "output_type": "execute_result"
    }
   ],
   "source": [
    "df[\"TotalSupply\"]"
   ]
  },
  {
   "cell_type": "markdown",
   "metadata": {},
   "source": [
    "To remove zeros after the point (which only occures in line 17), remove commas through numbers, and converting results back into Int:"
   ]
  },
  {
   "cell_type": "code",
   "execution_count": 106,
   "metadata": {},
   "outputs": [],
   "source": [
    "\n",
    "df[\"TotalSupply\"] = df[\"TotalSupply\"].str.split(\".\").str.get(0).str.replace(',', '').astype(\"Int64\")"
   ]
  },
  {
   "cell_type": "code",
   "execution_count": 141,
   "metadata": {},
   "outputs": [
    {
     "data": {
      "text/plain": [
       "0           985239504\n",
       "1          1000000000\n",
       "2              163106\n",
       "3           431804080\n",
       "4          5347888596\n",
       "5     589589040239380\n",
       "6            84000000\n",
       "7         88996805683\n",
       "8          1364182225\n",
       "9         10000000000\n",
       "10          559509636\n",
       "11       141339436384\n",
       "12        36244287753\n",
       "13         2213836281\n",
       "14        99988380689\n",
       "15        25540319537\n",
       "16          153845639\n",
       "17          866300000\n",
       "18          120249203\n",
       "19           19508418\n",
       "Name: TotalSupply, dtype: Int64"
      ]
     },
     "execution_count": 141,
     "metadata": {},
     "output_type": "execute_result"
    }
   ],
   "source": [
    "df[\"TotalSupply\"]"
   ]
  },
  {
   "cell_type": "code",
   "execution_count": 120,
   "metadata": {},
   "outputs": [
    {
     "data": {
      "text/html": [
       "<div>\n",
       "<style scoped>\n",
       "    .dataframe tbody tr th:only-of-type {\n",
       "        vertical-align: middle;\n",
       "    }\n",
       "\n",
       "    .dataframe tbody tr th {\n",
       "        vertical-align: top;\n",
       "    }\n",
       "\n",
       "    .dataframe thead th {\n",
       "        text-align: right;\n",
       "    }\n",
       "</style>\n",
       "<table border=\"1\" class=\"dataframe\">\n",
       "  <thead>\n",
       "    <tr style=\"text-align: right;\">\n",
       "      <th></th>\n",
       "      <th>Volume</th>\n",
       "      <th>MarketCap</th>\n",
       "      <th>TotalSupply</th>\n",
       "    </tr>\n",
       "  </thead>\n",
       "  <tbody>\n",
       "    <tr>\n",
       "      <th>count</th>\n",
       "      <td>2.000000e+01</td>\n",
       "      <td>2.000000e+01</td>\n",
       "      <td>20.0</td>\n",
       "    </tr>\n",
       "    <tr>\n",
       "      <th>mean</th>\n",
       "      <td>3.989441e+09</td>\n",
       "      <td>4.662433e+10</td>\n",
       "      <td>29500214799805.699219</td>\n",
       "    </tr>\n",
       "    <tr>\n",
       "      <th>std</th>\n",
       "      <td>8.674327e+09</td>\n",
       "      <td>1.066258e+11</td>\n",
       "      <td>131831236396192.734375</td>\n",
       "    </tr>\n",
       "    <tr>\n",
       "      <th>min</th>\n",
       "      <td>1.823284e+06</td>\n",
       "      <td>3.586504e+09</td>\n",
       "      <td>163106.0</td>\n",
       "    </tr>\n",
       "    <tr>\n",
       "      <th>25%</th>\n",
       "      <td>2.192077e+08</td>\n",
       "      <td>5.583104e+09</td>\n",
       "      <td>362314469.75</td>\n",
       "    </tr>\n",
       "    <tr>\n",
       "      <th>50%</th>\n",
       "      <td>5.073004e+08</td>\n",
       "      <td>8.201589e+09</td>\n",
       "      <td>1182091112.5</td>\n",
       "    </tr>\n",
       "    <tr>\n",
       "      <th>75%</th>\n",
       "      <td>1.928351e+09</td>\n",
       "      <td>2.701560e+10</td>\n",
       "      <td>28216311591.0</td>\n",
       "    </tr>\n",
       "    <tr>\n",
       "      <th>max</th>\n",
       "      <td>3.314948e+10</td>\n",
       "      <td>4.590837e+11</td>\n",
       "      <td>589589040239380.0</td>\n",
       "    </tr>\n",
       "  </tbody>\n",
       "</table>\n",
       "</div>"
      ],
      "text/plain": [
       "             Volume     MarketCap             TotalSupply\n",
       "count  2.000000e+01  2.000000e+01                    20.0\n",
       "mean   3.989441e+09  4.662433e+10   29500214799805.699219\n",
       "std    8.674327e+09  1.066258e+11  131831236396192.734375\n",
       "min    1.823284e+06  3.586504e+09                163106.0\n",
       "25%    2.192077e+08  5.583104e+09            362314469.75\n",
       "50%    5.073004e+08  8.201589e+09            1182091112.5\n",
       "75%    1.928351e+09  2.701560e+10           28216311591.0\n",
       "max    3.314948e+10  4.590837e+11       589589040239380.0"
      ]
     },
     "execution_count": 120,
     "metadata": {},
     "output_type": "execute_result"
    }
   ],
   "source": [
    "df.describe()"
   ]
  },
  {
   "cell_type": "code",
   "execution_count": 121,
   "metadata": {},
   "outputs": [
    {
     "data": {
      "text/html": [
       "<div>\n",
       "<style scoped>\n",
       "    .dataframe tbody tr th:only-of-type {\n",
       "        vertical-align: middle;\n",
       "    }\n",
       "\n",
       "    .dataframe tbody tr th {\n",
       "        vertical-align: top;\n",
       "    }\n",
       "\n",
       "    .dataframe thead th {\n",
       "        text-align: right;\n",
       "    }\n",
       "</style>\n",
       "<table border=\"1\" class=\"dataframe\">\n",
       "  <thead>\n",
       "    <tr style=\"text-align: right;\">\n",
       "      <th></th>\n",
       "      <th>Symbol</th>\n",
       "      <th>Volume</th>\n",
       "      <th>MarketCap</th>\n",
       "      <th>TotalSupply</th>\n",
       "      <th>ProofType</th>\n",
       "      <th>Network</th>\n",
       "    </tr>\n",
       "  </thead>\n",
       "  <tbody>\n",
       "    <tr>\n",
       "      <th>0</th>\n",
       "      <td>LEO</td>\n",
       "      <td>1.823284e+06</td>\n",
       "      <td>3586504072</td>\n",
       "      <td>985239504</td>\n",
       "      <td>PoS</td>\n",
       "      <td>Ethereum</td>\n",
       "    </tr>\n",
       "    <tr>\n",
       "      <th>1</th>\n",
       "      <td>UNI</td>\n",
       "      <td>9.918768e+07</td>\n",
       "      <td>3992451215</td>\n",
       "      <td>1000000000</td>\n",
       "      <td>PoS</td>\n",
       "      <td>Ethereum</td>\n",
       "    </tr>\n",
       "    <tr>\n",
       "      <th>2</th>\n",
       "      <td>WBTC</td>\n",
       "      <td>1.415410e+08</td>\n",
       "      <td>4237575489</td>\n",
       "      <td>163106</td>\n",
       "      <td>PoW</td>\n",
       "      <td>Ethereum</td>\n",
       "    </tr>\n",
       "    <tr>\n",
       "      <th>3</th>\n",
       "      <td>AVAX</td>\n",
       "      <td>2.197065e+08</td>\n",
       "      <td>4901630273</td>\n",
       "      <td>431804080</td>\n",
       "      <td>PoS</td>\n",
       "      <td>Avalanche</td>\n",
       "    </tr>\n",
       "    <tr>\n",
       "      <th>4</th>\n",
       "      <td>DAI</td>\n",
       "      <td>2.177113e+08</td>\n",
       "      <td>5513660644</td>\n",
       "      <td>5347888596</td>\n",
       "      <td>stablecoin</td>\n",
       "      <td>Ethereum</td>\n",
       "    </tr>\n",
       "  </tbody>\n",
       "</table>\n",
       "</div>"
      ],
      "text/plain": [
       "  Symbol        Volume   MarketCap  TotalSupply   ProofType    Network\n",
       "0    LEO  1.823284e+06  3586504072    985239504         PoS   Ethereum\n",
       "1    UNI  9.918768e+07  3992451215   1000000000         PoS   Ethereum\n",
       "2   WBTC  1.415410e+08  4237575489       163106         PoW   Ethereum\n",
       "3   AVAX  2.197065e+08  4901630273    431804080         PoS  Avalanche\n",
       "4    DAI  2.177113e+08  5513660644   5347888596  stablecoin   Ethereum"
      ]
     },
     "execution_count": 121,
     "metadata": {},
     "output_type": "execute_result"
    }
   ],
   "source": [
    "df.head()"
   ]
  },
  {
   "cell_type": "markdown",
   "metadata": {},
   "source": [
    "To convert categorical columns into integers:"
   ]
  },
  {
   "cell_type": "code",
   "execution_count": 122,
   "metadata": {},
   "outputs": [],
   "source": [
    "label_encoder = LabelEncoder()\n",
    "\n",
    "df_encoded = df.copy()\n",
    "df_encoded[\"Symbol\"] = label_encoder.fit_transform(df_encoded[\"Symbol\"])\n",
    "df_encoded[\"ProofType\"] = label_encoder.fit_transform(df_encoded[\"ProofType\"])\n",
    "df_encoded[\"Network\"] = label_encoder.fit_transform(df_encoded[\"Network\"])"
   ]
  },
  {
   "cell_type": "code",
   "execution_count": 123,
   "metadata": {},
   "outputs": [
    {
     "data": {
      "text/html": [
       "<div>\n",
       "<style scoped>\n",
       "    .dataframe tbody tr th:only-of-type {\n",
       "        vertical-align: middle;\n",
       "    }\n",
       "\n",
       "    .dataframe tbody tr th {\n",
       "        vertical-align: top;\n",
       "    }\n",
       "\n",
       "    .dataframe thead th {\n",
       "        text-align: right;\n",
       "    }\n",
       "</style>\n",
       "<table border=\"1\" class=\"dataframe\">\n",
       "  <thead>\n",
       "    <tr style=\"text-align: right;\">\n",
       "      <th></th>\n",
       "      <th>Symbol</th>\n",
       "      <th>Volume</th>\n",
       "      <th>MarketCap</th>\n",
       "      <th>TotalSupply</th>\n",
       "      <th>ProofType</th>\n",
       "      <th>Network</th>\n",
       "    </tr>\n",
       "  </thead>\n",
       "  <tbody>\n",
       "    <tr>\n",
       "      <th>0</th>\n",
       "      <td>LEO</td>\n",
       "      <td>1.823284e+06</td>\n",
       "      <td>3586504072</td>\n",
       "      <td>985239504</td>\n",
       "      <td>PoS</td>\n",
       "      <td>Ethereum</td>\n",
       "    </tr>\n",
       "    <tr>\n",
       "      <th>1</th>\n",
       "      <td>UNI</td>\n",
       "      <td>9.918768e+07</td>\n",
       "      <td>3992451215</td>\n",
       "      <td>1000000000</td>\n",
       "      <td>PoS</td>\n",
       "      <td>Ethereum</td>\n",
       "    </tr>\n",
       "    <tr>\n",
       "      <th>2</th>\n",
       "      <td>WBTC</td>\n",
       "      <td>1.415410e+08</td>\n",
       "      <td>4237575489</td>\n",
       "      <td>163106</td>\n",
       "      <td>PoW</td>\n",
       "      <td>Ethereum</td>\n",
       "    </tr>\n",
       "    <tr>\n",
       "      <th>3</th>\n",
       "      <td>AVAX</td>\n",
       "      <td>2.197065e+08</td>\n",
       "      <td>4901630273</td>\n",
       "      <td>431804080</td>\n",
       "      <td>PoS</td>\n",
       "      <td>Avalanche</td>\n",
       "    </tr>\n",
       "    <tr>\n",
       "      <th>4</th>\n",
       "      <td>DAI</td>\n",
       "      <td>2.177113e+08</td>\n",
       "      <td>5513660644</td>\n",
       "      <td>5347888596</td>\n",
       "      <td>stablecoin</td>\n",
       "      <td>Ethereum</td>\n",
       "    </tr>\n",
       "  </tbody>\n",
       "</table>\n",
       "</div>"
      ],
      "text/plain": [
       "  Symbol        Volume   MarketCap  TotalSupply   ProofType    Network\n",
       "0    LEO  1.823284e+06  3586504072    985239504         PoS   Ethereum\n",
       "1    UNI  9.918768e+07  3992451215   1000000000         PoS   Ethereum\n",
       "2   WBTC  1.415410e+08  4237575489       163106         PoW   Ethereum\n",
       "3   AVAX  2.197065e+08  4901630273    431804080         PoS  Avalanche\n",
       "4    DAI  2.177113e+08  5513660644   5347888596  stablecoin   Ethereum"
      ]
     },
     "execution_count": 123,
     "metadata": {},
     "output_type": "execute_result"
    }
   ],
   "source": [
    "df.head()"
   ]
  },
  {
   "cell_type": "code",
   "execution_count": 124,
   "metadata": {},
   "outputs": [
    {
     "data": {
      "text/html": [
       "<div>\n",
       "<style scoped>\n",
       "    .dataframe tbody tr th:only-of-type {\n",
       "        vertical-align: middle;\n",
       "    }\n",
       "\n",
       "    .dataframe tbody tr th {\n",
       "        vertical-align: top;\n",
       "    }\n",
       "\n",
       "    .dataframe thead th {\n",
       "        text-align: right;\n",
       "    }\n",
       "</style>\n",
       "<table border=\"1\" class=\"dataframe\">\n",
       "  <thead>\n",
       "    <tr style=\"text-align: right;\">\n",
       "      <th></th>\n",
       "      <th>Symbol</th>\n",
       "      <th>Volume</th>\n",
       "      <th>MarketCap</th>\n",
       "      <th>TotalSupply</th>\n",
       "      <th>ProofType</th>\n",
       "      <th>Network</th>\n",
       "    </tr>\n",
       "  </thead>\n",
       "  <tbody>\n",
       "    <tr>\n",
       "      <th>0</th>\n",
       "      <td>9</td>\n",
       "      <td>1.823284e+06</td>\n",
       "      <td>3586504072</td>\n",
       "      <td>985239504</td>\n",
       "      <td>1</td>\n",
       "      <td>5</td>\n",
       "    </tr>\n",
       "    <tr>\n",
       "      <th>1</th>\n",
       "      <td>15</td>\n",
       "      <td>9.918768e+07</td>\n",
       "      <td>3992451215</td>\n",
       "      <td>1000000000</td>\n",
       "      <td>1</td>\n",
       "      <td>5</td>\n",
       "    </tr>\n",
       "    <tr>\n",
       "      <th>2</th>\n",
       "      <td>18</td>\n",
       "      <td>1.415410e+08</td>\n",
       "      <td>4237575489</td>\n",
       "      <td>163106</td>\n",
       "      <td>2</td>\n",
       "      <td>5</td>\n",
       "    </tr>\n",
       "    <tr>\n",
       "      <th>3</th>\n",
       "      <td>1</td>\n",
       "      <td>2.197065e+08</td>\n",
       "      <td>4901630273</td>\n",
       "      <td>431804080</td>\n",
       "      <td>1</td>\n",
       "      <td>0</td>\n",
       "    </tr>\n",
       "    <tr>\n",
       "      <th>4</th>\n",
       "      <td>5</td>\n",
       "      <td>2.177113e+08</td>\n",
       "      <td>5513660644</td>\n",
       "      <td>5347888596</td>\n",
       "      <td>4</td>\n",
       "      <td>5</td>\n",
       "    </tr>\n",
       "  </tbody>\n",
       "</table>\n",
       "</div>"
      ],
      "text/plain": [
       "   Symbol        Volume   MarketCap  TotalSupply  ProofType  Network\n",
       "0       9  1.823284e+06  3586504072    985239504          1        5\n",
       "1      15  9.918768e+07  3992451215   1000000000          1        5\n",
       "2      18  1.415410e+08  4237575489       163106          2        5\n",
       "3       1  2.197065e+08  4901630273    431804080          1        0\n",
       "4       5  2.177113e+08  5513660644   5347888596          4        5"
      ]
     },
     "execution_count": 124,
     "metadata": {},
     "output_type": "execute_result"
    }
   ],
   "source": [
    "df_encoded.head()"
   ]
  },
  {
   "cell_type": "markdown",
   "metadata": {},
   "source": [
    "To standardizing columns:"
   ]
  },
  {
   "cell_type": "code",
   "execution_count": 125,
   "metadata": {},
   "outputs": [],
   "source": [
    "from sklearn.preprocessing import StandardScaler\n",
    "\n",
    "scaler = StandardScaler()\n",
    "scaled_data = scaler.fit_transform(df_encoded)\n",
    "scaled_df = pd.DataFrame(scaled_data, columns=df.columns)"
   ]
  },
  {
   "cell_type": "code",
   "execution_count": 126,
   "metadata": {},
   "outputs": [
    {
     "data": {
      "text/html": [
       "<div>\n",
       "<style scoped>\n",
       "    .dataframe tbody tr th:only-of-type {\n",
       "        vertical-align: middle;\n",
       "    }\n",
       "\n",
       "    .dataframe tbody tr th {\n",
       "        vertical-align: top;\n",
       "    }\n",
       "\n",
       "    .dataframe thead th {\n",
       "        text-align: right;\n",
       "    }\n",
       "</style>\n",
       "<table border=\"1\" class=\"dataframe\">\n",
       "  <thead>\n",
       "    <tr style=\"text-align: right;\">\n",
       "      <th></th>\n",
       "      <th>Symbol</th>\n",
       "      <th>Volume</th>\n",
       "      <th>MarketCap</th>\n",
       "      <th>TotalSupply</th>\n",
       "      <th>ProofType</th>\n",
       "      <th>Network</th>\n",
       "    </tr>\n",
       "  </thead>\n",
       "  <tbody>\n",
       "    <tr>\n",
       "      <th>0</th>\n",
       "      <td>-0.086711</td>\n",
       "      <td>-0.471646</td>\n",
       "      <td>-0.414120</td>\n",
       "      <td>-0.229578</td>\n",
       "      <td>-0.737309</td>\n",
       "      <td>-0.035158</td>\n",
       "    </tr>\n",
       "    <tr>\n",
       "      <th>1</th>\n",
       "      <td>0.953821</td>\n",
       "      <td>-0.460130</td>\n",
       "      <td>-0.410214</td>\n",
       "      <td>-0.229578</td>\n",
       "      <td>-0.737309</td>\n",
       "      <td>-0.035158</td>\n",
       "    </tr>\n",
       "    <tr>\n",
       "      <th>2</th>\n",
       "      <td>1.474087</td>\n",
       "      <td>-0.455120</td>\n",
       "      <td>-0.407855</td>\n",
       "      <td>-0.229586</td>\n",
       "      <td>0.081923</td>\n",
       "      <td>-0.035158</td>\n",
       "    </tr>\n",
       "    <tr>\n",
       "      <th>3</th>\n",
       "      <td>-1.474087</td>\n",
       "      <td>-0.445875</td>\n",
       "      <td>-0.401465</td>\n",
       "      <td>-0.229582</td>\n",
       "      <td>-0.737309</td>\n",
       "      <td>-1.793065</td>\n",
       "    </tr>\n",
       "    <tr>\n",
       "      <th>4</th>\n",
       "      <td>-0.780399</td>\n",
       "      <td>-0.446111</td>\n",
       "      <td>-0.395576</td>\n",
       "      <td>-0.229544</td>\n",
       "      <td>1.720387</td>\n",
       "      <td>-0.035158</td>\n",
       "    </tr>\n",
       "  </tbody>\n",
       "</table>\n",
       "</div>"
      ],
      "text/plain": [
       "     Symbol    Volume  MarketCap  TotalSupply  ProofType   Network\n",
       "0 -0.086711 -0.471646  -0.414120    -0.229578  -0.737309 -0.035158\n",
       "1  0.953821 -0.460130  -0.410214    -0.229578  -0.737309 -0.035158\n",
       "2  1.474087 -0.455120  -0.407855    -0.229586   0.081923 -0.035158\n",
       "3 -1.474087 -0.445875  -0.401465    -0.229582  -0.737309 -1.793065\n",
       "4 -0.780399 -0.446111  -0.395576    -0.229544   1.720387 -0.035158"
      ]
     },
     "execution_count": 126,
     "metadata": {},
     "output_type": "execute_result"
    }
   ],
   "source": [
    "scaled_df.head()"
   ]
  },
  {
   "cell_type": "markdown",
   "metadata": {},
   "source": [
    "Drawing Dendrograms:"
   ]
  },
  {
   "cell_type": "code",
   "execution_count": 140,
   "metadata": {},
   "outputs": [
    {
     "data": {
      "image/png": "[encoded data removed]",
      "text/plain": [
       "<Figure size 1300x400 with 1 Axes>"
      ]
     },
     "metadata": {},
     "output_type": "display_data"
    }
   ],
   "source": [
    "linkage_matrix0 = linkage(scaled_df, method='ward')\n",
    "\n",
    "plt.figure(figsize=(13, 4))\n",
    "dendrogram(linkage_matrix0, labels=df[\"Symbol\"].astype(str).values, orientation='top')\n",
    "plt.xlabel('Symbols')\n",
    "plt.ylabel('Distance')\n",
    "plt.title('Dendrogram considering all features')\n",
    "plt.show()\n"
   ]
  },
  {
   "cell_type": "code",
   "execution_count": 128,
   "metadata": {},
   "outputs": [
    {
     "data": {
      "text/plain": [
       "0       LEO\n",
       "1       UNI\n",
       "2      WBTC\n",
       "3      AVAX\n",
       "4       DAI\n",
       "5      SHIB\n",
       "6       LTC\n",
       "7       TRX\n",
       "8       DOT\n",
       "9     MATIC\n",
       "10      SOL\n",
       "11     DOGE\n",
       "12      ADA\n",
       "13     BUSD\n",
       "14      XRP\n",
       "15     USDC\n",
       "16      BNB\n",
       "17     USDT\n",
       "18      ETH\n",
       "19      BTC\n",
       "Name: Symbol, dtype: object"
      ]
     },
     "execution_count": 128,
     "metadata": {},
     "output_type": "execute_result"
    }
   ],
   "source": [
    "df[\"Symbol\"]"
   ]
  },
  {
   "cell_type": "markdown",
   "metadata": {},
   "source": [
    "# Part 1"
   ]
  },
  {
   "cell_type": "code",
   "execution_count": 139,
   "metadata": {},
   "outputs": [
    {
     "data": {
      "image/png": "[encoded data removed]",
      "text/plain": [
       "<Figure size 1300x400 with 1 Axes>"
      ]
     },
     "metadata": {},
     "output_type": "display_data"
    }
   ],
   "source": [
    "df_part1 = scaled_df[[\"MarketCap\", \"Volume\"]]\n",
    "\n",
    "linkage_matrix1 = linkage(df_part1, method='ward') \n",
    "\n",
    "plt.figure(figsize=(13, 4))\n",
    "dendrogram(linkage_matrix1, labels=df[\"Symbol\"].astype(str).values, orientation='top')\n",
    "plt.xlabel('Symbols')\n",
    "plt.ylabel('Distance')\n",
    "plt.title('Dendrogram with Columns MarketCap and Volume (Part 1)')\n",
    "plt.show()\n"
   ]
  },
  {
   "cell_type": "code",
   "execution_count": 130,
   "metadata": {},
   "outputs": [
    {
     "data": {
      "text/plain": [
       "array([1, 1, 1, 1, 1, 1, 1, 1, 1, 1, 1, 1, 1, 1, 1, 1, 1, 2, 1, 2],\n",
       "      dtype=int32)"
      ]
     },
     "execution_count": 130,
     "metadata": {},
     "output_type": "execute_result"
    }
   ],
   "source": [
    "from scipy.cluster.hierarchy import fcluster\n",
    "\n",
    "threshold = 5\n",
    "cluster_labels = fcluster(linkage_matrix1, threshold, criterion='distance')\n",
    "cluster_labels"
   ]
  },
  {
   "cell_type": "markdown",
   "metadata": {},
   "source": [
    "# Part 2"
   ]
  },
  {
   "cell_type": "code",
   "execution_count": 138,
   "metadata": {},
   "outputs": [
    {
     "data": {
      "image/png": "[encoded data removed]",
      "text/plain": [
       "<Figure size 1300x400 with 1 Axes>"
      ]
     },
     "metadata": {},
     "output_type": "display_data"
    }
   ],
   "source": [
    "df_part2 = scaled_df[[\"MarketCap\", \"Volume\", \"ProofType\"]]\n",
    "\n",
    "plt.figure(figsize=(13, 4))\n",
    "linkage_matrix2 = linkage(df_part2, method='ward') \n",
    "dendrogram(linkage_matrix2, labels=df[\"Symbol\"].astype(str).values, orientation='top')\n",
    "plt.xlabel('Symbols')\n",
    "plt.ylabel('Distance')\n",
    "plt.title('Dendrogram with Columns MarketCap and Volume and ProofType (Part 2)')\n",
    "plt.show()\n"
   ]
  },
  {
   "cell_type": "code",
   "execution_count": 132,
   "metadata": {},
   "outputs": [
    {
     "data": {
      "text/plain": [
       "array([2, 2, 2, 2, 2, 2, 2, 2, 2, 2, 2, 2, 2, 2, 2, 2, 2, 1, 2, 1],\n",
       "      dtype=int32)"
      ]
     },
     "execution_count": 132,
     "metadata": {},
     "output_type": "execute_result"
    }
   ],
   "source": [
    "from scipy.cluster.hierarchy import fcluster\n",
    "\n",
    "threshold = 6\n",
    "cluster_labels = fcluster(linkage_matrix2, threshold, criterion='distance')\n",
    "cluster_labels"
   ]
  },
  {
   "cell_type": "markdown",
   "metadata": {},
   "source": [
    "# Part 3"
   ]
  },
  {
   "cell_type": "code",
   "execution_count": 137,
   "metadata": {},
   "outputs": [
    {
     "data": {
      "image/png": "[encoded data removed]",
      "text/plain": [
       "<Figure size 1300x400 with 1 Axes>"
      ]
     },
     "metadata": {},
     "output_type": "display_data"
    }
   ],
   "source": [
    "df_part3 = scaled_df[[\"MarketCap\", \"Volume\", \"ProofType\", \"Network\", \"TotalSupply\"]]\n",
    "\n",
    "plt.figure(figsize=(13, 4))\n",
    "linkage_matrix3 = linkage(df_part3, method='ward') \n",
    "dendrogram(linkage_matrix3, labels=df[\"Symbol\"].astype(str).values, orientation='top')\n",
    "plt.xlabel('Symbols')\n",
    "plt.ylabel('Distance')\n",
    "plt.title('Dendrogram with Columns MarketCap, Volume, ProofType, Network, and TotalSupply (Part 3)')\n",
    "plt.show()\n"
   ]
  },
  {
   "cell_type": "code",
   "execution_count": 135,
   "metadata": {},
   "outputs": [
    {
     "data": {
      "text/plain": [
       "array([2, 2, 2, 2, 2, 2, 2, 2, 2, 2, 2, 2, 2, 2, 2, 2, 2, 1, 2, 1],\n",
       "      dtype=int32)"
      ]
     },
     "execution_count": 135,
     "metadata": {},
     "output_type": "execute_result"
    }
   ],
   "source": [
    "threshold = 7\n",
    "cluster_labels = fcluster(linkage_matrix3, threshold, criterion='distance')\n",
    "cluster_labels"
   ]
  },
  {
   "cell_type": "code",
   "execution_count": null,
   "metadata": {},
   "outputs": [],
   "source": []
  }
 ],
 "metadata": {
  "kernelspec": {
   "display_name": "Python 3",
   "language": "python",
   "name": "python3"
  },
  "language_info": {
   "codemirror_mode": {
    "name": "ipython",
    "version": 3
   },
   "file_extension": ".py",
   "mimetype": "text/x-python",
   "name": "python",
   "nbconvert_exporter": "python",
   "pygments_lexer": "ipython3",
   "version": "3.9.17"
  },
  "orig_nbformat": 4
 },
 "nbformat": 4,
 "nbformat_minor": 2
}
