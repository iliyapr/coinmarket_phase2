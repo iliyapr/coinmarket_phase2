{
 "cells": [
  {
   "cell_type": "code",
   "execution_count": 1,
   "metadata": {},
   "outputs": [],
   "source": [
    "import numpy as np\n",
    "import pandas as pd\n",
    "from scipy.cluster.hierarchy import linkage, dendrogram\n",
    "import matplotlib.pyplot as plt\n",
    "from sklearn.preprocessing import LabelEncoder"
   ]
  },
  {
   "cell_type": "code",
   "execution_count": 12,
   "metadata": {},
   "outputs": [],
   "source": [
    "df = pd.read_csv(\"coins_data.csv\")"
   ]
  },
  {
   "cell_type": "code",
   "execution_count": 13,
   "metadata": {},
   "outputs": [
    {
     "data": {
      "text/html": [
       "<div>\n",
       "<style scoped>\n",
       "    .dataframe tbody tr th:only-of-type {\n",
       "        vertical-align: middle;\n",
       "    }\n",
       "\n",
       "    .dataframe tbody tr th {\n",
       "        vertical-align: top;\n",
       "    }\n",
       "\n",
       "    .dataframe thead th {\n",
       "        text-align: right;\n",
       "    }\n",
       "</style>\n",
       "<table border=\"1\" class=\"dataframe\">\n",
       "  <thead>\n",
       "    <tr style=\"text-align: right;\">\n",
       "      <th></th>\n",
       "      <th>Symbol</th>\n",
       "      <th>Volume</th>\n",
       "      <th>MarketCap</th>\n",
       "      <th>TotalSupply</th>\n",
       "      <th>ProofType</th>\n",
       "      <th>Network</th>\n",
       "    </tr>\n",
       "  </thead>\n",
       "  <tbody>\n",
       "    <tr>\n",
       "      <th>0</th>\n",
       "      <td>LEO</td>\n",
       "      <td>1.823284e+06</td>\n",
       "      <td>3586504072</td>\n",
       "      <td>985,239,504</td>\n",
       "      <td>PoS</td>\n",
       "      <td>Ethereum</td>\n",
       "    </tr>\n",
       "    <tr>\n",
       "      <th>1</th>\n",
       "      <td>UNI</td>\n",
       "      <td>9.918768e+07</td>\n",
       "      <td>3992451215</td>\n",
       "      <td>1,000,000,000</td>\n",
       "      <td>PoS</td>\n",
       "      <td>Ethereum</td>\n",
       "    </tr>\n",
       "    <tr>\n",
       "      <th>2</th>\n",
       "      <td>WBTC</td>\n",
       "      <td>1.415410e+08</td>\n",
       "      <td>4237575489</td>\n",
       "      <td>163,106</td>\n",
       "      <td>PoW</td>\n",
       "      <td>Ethereum</td>\n",
       "    </tr>\n",
       "    <tr>\n",
       "      <th>3</th>\n",
       "      <td>AVAX</td>\n",
       "      <td>2.197065e+08</td>\n",
       "      <td>4901630273</td>\n",
       "      <td>431,804,080</td>\n",
       "      <td>PoS</td>\n",
       "      <td>Avalanche</td>\n",
       "    </tr>\n",
       "    <tr>\n",
       "      <th>4</th>\n",
       "      <td>DAI</td>\n",
       "      <td>2.177113e+08</td>\n",
       "      <td>5513660644</td>\n",
       "      <td>5,347,888,596</td>\n",
       "      <td>stablecoin</td>\n",
       "      <td>Ethereum</td>\n",
       "    </tr>\n",
       "  </tbody>\n",
       "</table>\n",
       "</div>"
      ],
      "text/plain": [
       "  Symbol        Volume   MarketCap    TotalSupply   ProofType    Network\n",
       "0    LEO  1.823284e+06  3586504072    985,239,504         PoS   Ethereum\n",
       "1    UNI  9.918768e+07  3992451215  1,000,000,000         PoS   Ethereum\n",
       "2   WBTC  1.415410e+08  4237575489        163,106         PoW   Ethereum\n",
       "3   AVAX  2.197065e+08  4901630273    431,804,080         PoS  Avalanche\n",
       "4    DAI  2.177113e+08  5513660644  5,347,888,596  stablecoin   Ethereum"
      ]
     },
     "execution_count": 13,
     "metadata": {},
     "output_type": "execute_result"
    }
   ],
   "source": [
    "df.head()"
   ]
  },
  {
   "cell_type": "code",
   "execution_count": 14,
   "metadata": {},
   "outputs": [
    {
     "data": {
      "text/html": [
       "<div>\n",
       "<style scoped>\n",
       "    .dataframe tbody tr th:only-of-type {\n",
       "        vertical-align: middle;\n",
       "    }\n",
       "\n",
       "    .dataframe tbody tr th {\n",
       "        vertical-align: top;\n",
       "    }\n",
       "\n",
       "    .dataframe thead th {\n",
       "        text-align: right;\n",
       "    }\n",
       "</style>\n",
       "<table border=\"1\" class=\"dataframe\">\n",
       "  <thead>\n",
       "    <tr style=\"text-align: right;\">\n",
       "      <th></th>\n",
       "      <th>Volume</th>\n",
       "      <th>MarketCap</th>\n",
       "    </tr>\n",
       "  </thead>\n",
       "  <tbody>\n",
       "    <tr>\n",
       "      <th>count</th>\n",
       "      <td>2.000000e+01</td>\n",
       "      <td>2.000000e+01</td>\n",
       "    </tr>\n",
       "    <tr>\n",
       "      <th>mean</th>\n",
       "      <td>3.989441e+09</td>\n",
       "      <td>4.662433e+10</td>\n",
       "    </tr>\n",
       "    <tr>\n",
       "      <th>std</th>\n",
       "      <td>8.674327e+09</td>\n",
       "      <td>1.066258e+11</td>\n",
       "    </tr>\n",
       "    <tr>\n",
       "      <th>min</th>\n",
       "      <td>1.823284e+06</td>\n",
       "      <td>3.586504e+09</td>\n",
       "    </tr>\n",
       "    <tr>\n",
       "      <th>25%</th>\n",
       "      <td>2.192077e+08</td>\n",
       "      <td>5.583104e+09</td>\n",
       "    </tr>\n",
       "    <tr>\n",
       "      <th>50%</th>\n",
       "      <td>5.073004e+08</td>\n",
       "      <td>8.201589e+09</td>\n",
       "    </tr>\n",
       "    <tr>\n",
       "      <th>75%</th>\n",
       "      <td>1.928351e+09</td>\n",
       "      <td>2.701560e+10</td>\n",
       "    </tr>\n",
       "    <tr>\n",
       "      <th>max</th>\n",
       "      <td>3.314948e+10</td>\n",
       "      <td>4.590837e+11</td>\n",
       "    </tr>\n",
       "  </tbody>\n",
       "</table>\n",
       "</div>"
      ],
      "text/plain": [
       "             Volume     MarketCap\n",
       "count  2.000000e+01  2.000000e+01\n",
       "mean   3.989441e+09  4.662433e+10\n",
       "std    8.674327e+09  1.066258e+11\n",
       "min    1.823284e+06  3.586504e+09\n",
       "25%    2.192077e+08  5.583104e+09\n",
       "50%    5.073004e+08  8.201589e+09\n",
       "75%    1.928351e+09  2.701560e+10\n",
       "max    3.314948e+10  4.590837e+11"
      ]
     },
     "execution_count": 14,
     "metadata": {},
     "output_type": "execute_result"
    }
   ],
   "source": [
    "df.describe()"
   ]
  },
  {
   "cell_type": "code",
   "execution_count": 15,
   "metadata": {},
   "outputs": [
    {
     "name": "stdout",
     "output_type": "stream",
     "text": [
      "<class 'pandas.core.frame.DataFrame'>\n",
      "RangeIndex: 20 entries, 0 to 19\n",
      "Data columns (total 6 columns):\n",
      " #   Column       Non-Null Count  Dtype  \n",
      "---  ------       --------------  -----  \n",
      " 0   Symbol       20 non-null     object \n",
      " 1   Volume       20 non-null     float64\n",
      " 2   MarketCap    20 non-null     int64  \n",
      " 3   TotalSupply  20 non-null     object \n",
      " 4   ProofType    20 non-null     object \n",
      " 5   Network      20 non-null     object \n",
      "dtypes: float64(1), int64(1), object(4)\n",
      "memory usage: 1.1+ KB\n"
     ]
    }
   ],
   "source": [
    "df.info()"
   ]
  },
  {
   "cell_type": "markdown",
   "metadata": {},
   "source": [
    "In the seventeenth row of the Total Supply column (which is visible in the cell below), there is a decimal point. The presence of this decimal point creates difficulty in converting the string to an integer. Additionally, in all the rows of this column, the comma separator separates the digits of each number, which also creates a similar issue."
   ]
  },
  {
   "cell_type": "code",
   "execution_count": 16,
   "metadata": {},
   "outputs": [
    {
     "data": {
      "text/plain": [
       "0             985,239,504\n",
       "1           1,000,000,000\n",
       "2                 163,106\n",
       "3             431,804,080\n",
       "4           5,347,888,596\n",
       "5     589,589,040,239,380\n",
       "6              84,000,000\n",
       "7          88,996,805,683\n",
       "8           1,364,182,225\n",
       "9          10,000,000,000\n",
       "10            559,509,636\n",
       "11        141,339,436,384\n",
       "12         36,244,287,753\n",
       "13          2,213,836,281\n",
       "14         99,988,380,689\n",
       "15         25,540,319,537\n",
       "16            153,845,639\n",
       "17         866,300,000.00\n",
       "18            120,249,203\n",
       "19             19,508,418\n",
       "Name: TotalSupply, dtype: object"
      ]
     },
     "execution_count": 16,
     "metadata": {},
     "output_type": "execute_result"
    }
   ],
   "source": [
    "df[\"TotalSupply\"]"
   ]
  },
  {
   "cell_type": "markdown",
   "metadata": {},
   "source": [
    "To remove trailing zeros after the decimal point, strip the commas within the numbers, and convert the entire column to an integer:"
   ]
  },
  {
   "cell_type": "code",
   "execution_count": 17,
   "metadata": {},
   "outputs": [],
   "source": [
    "\n",
    "df[\"TotalSupply\"] = df[\"TotalSupply\"].str.split(\".\").str.get(0).str.replace(',', '').astype(\"Int64\")"
   ]
  },
  {
   "cell_type": "markdown",
   "metadata": {},
   "source": [
    "The new format of the Total Supply column:"
   ]
  },
  {
   "cell_type": "code",
   "execution_count": 18,
   "metadata": {},
   "outputs": [
    {
     "data": {
      "text/plain": [
       "0           985239504\n",
       "1          1000000000\n",
       "2              163106\n",
       "3           431804080\n",
       "4          5347888596\n",
       "5     589589040239380\n",
       "6            84000000\n",
       "7         88996805683\n",
       "8          1364182225\n",
       "9         10000000000\n",
       "10          559509636\n",
       "11       141339436384\n",
       "12        36244287753\n",
       "13         2213836281\n",
       "14        99988380689\n",
       "15        25540319537\n",
       "16          153845639\n",
       "17          866300000\n",
       "18          120249203\n",
       "19           19508418\n",
       "Name: TotalSupply, dtype: Int64"
      ]
     },
     "execution_count": 18,
     "metadata": {},
     "output_type": "execute_result"
    }
   ],
   "source": [
    "df[\"TotalSupply\"]"
   ]
  },
  {
   "cell_type": "code",
   "execution_count": 19,
   "metadata": {},
   "outputs": [
    {
     "data": {
      "text/html": [
       "<div>\n",
       "<style scoped>\n",
       "    .dataframe tbody tr th:only-of-type {\n",
       "        vertical-align: middle;\n",
       "    }\n",
       "\n",
       "    .dataframe tbody tr th {\n",
       "        vertical-align: top;\n",
       "    }\n",
       "\n",
       "    .dataframe thead th {\n",
       "        text-align: right;\n",
       "    }\n",
       "</style>\n",
       "<table border=\"1\" class=\"dataframe\">\n",
       "  <thead>\n",
       "    <tr style=\"text-align: right;\">\n",
       "      <th></th>\n",
       "      <th>Volume</th>\n",
       "      <th>MarketCap</th>\n",
       "      <th>TotalSupply</th>\n",
       "    </tr>\n",
       "  </thead>\n",
       "  <tbody>\n",
       "    <tr>\n",
       "      <th>count</th>\n",
       "      <td>2.000000e+01</td>\n",
       "      <td>2.000000e+01</td>\n",
       "      <td>20.0</td>\n",
       "    </tr>\n",
       "    <tr>\n",
       "      <th>mean</th>\n",
       "      <td>3.989441e+09</td>\n",
       "      <td>4.662433e+10</td>\n",
       "      <td>29500214799805.699219</td>\n",
       "    </tr>\n",
       "    <tr>\n",
       "      <th>std</th>\n",
       "      <td>8.674327e+09</td>\n",
       "      <td>1.066258e+11</td>\n",
       "      <td>131831236396192.734375</td>\n",
       "    </tr>\n",
       "    <tr>\n",
       "      <th>min</th>\n",
       "      <td>1.823284e+06</td>\n",
       "      <td>3.586504e+09</td>\n",
       "      <td>163106.0</td>\n",
       "    </tr>\n",
       "    <tr>\n",
       "      <th>25%</th>\n",
       "      <td>2.192077e+08</td>\n",
       "      <td>5.583104e+09</td>\n",
       "      <td>362314469.75</td>\n",
       "    </tr>\n",
       "    <tr>\n",
       "      <th>50%</th>\n",
       "      <td>5.073004e+08</td>\n",
       "      <td>8.201589e+09</td>\n",
       "      <td>1182091112.5</td>\n",
       "    </tr>\n",
       "    <tr>\n",
       "      <th>75%</th>\n",
       "      <td>1.928351e+09</td>\n",
       "      <td>2.701560e+10</td>\n",
       "      <td>28216311591.0</td>\n",
       "    </tr>\n",
       "    <tr>\n",
       "      <th>max</th>\n",
       "      <td>3.314948e+10</td>\n",
       "      <td>4.590837e+11</td>\n",
       "      <td>589589040239380.0</td>\n",
       "    </tr>\n",
       "  </tbody>\n",
       "</table>\n",
       "</div>"
      ],
      "text/plain": [
       "             Volume     MarketCap             TotalSupply\n",
       "count  2.000000e+01  2.000000e+01                    20.0\n",
       "mean   3.989441e+09  4.662433e+10   29500214799805.699219\n",
       "std    8.674327e+09  1.066258e+11  131831236396192.734375\n",
       "min    1.823284e+06  3.586504e+09                163106.0\n",
       "25%    2.192077e+08  5.583104e+09            362314469.75\n",
       "50%    5.073004e+08  8.201589e+09            1182091112.5\n",
       "75%    1.928351e+09  2.701560e+10           28216311591.0\n",
       "max    3.314948e+10  4.590837e+11       589589040239380.0"
      ]
     },
     "execution_count": 19,
     "metadata": {},
     "output_type": "execute_result"
    }
   ],
   "source": [
    "df.describe()"
   ]
  },
  {
   "cell_type": "code",
   "execution_count": 20,
   "metadata": {},
   "outputs": [
    {
     "data": {
      "text/html": [
       "<div>\n",
       "<style scoped>\n",
       "    .dataframe tbody tr th:only-of-type {\n",
       "        vertical-align: middle;\n",
       "    }\n",
       "\n",
       "    .dataframe tbody tr th {\n",
       "        vertical-align: top;\n",
       "    }\n",
       "\n",
       "    .dataframe thead th {\n",
       "        text-align: right;\n",
       "    }\n",
       "</style>\n",
       "<table border=\"1\" class=\"dataframe\">\n",
       "  <thead>\n",
       "    <tr style=\"text-align: right;\">\n",
       "      <th></th>\n",
       "      <th>Symbol</th>\n",
       "      <th>Volume</th>\n",
       "      <th>MarketCap</th>\n",
       "      <th>TotalSupply</th>\n",
       "      <th>ProofType</th>\n",
       "      <th>Network</th>\n",
       "    </tr>\n",
       "  </thead>\n",
       "  <tbody>\n",
       "    <tr>\n",
       "      <th>0</th>\n",
       "      <td>LEO</td>\n",
       "      <td>1.823284e+06</td>\n",
       "      <td>3586504072</td>\n",
       "      <td>985239504</td>\n",
       "      <td>PoS</td>\n",
       "      <td>Ethereum</td>\n",
       "    </tr>\n",
       "    <tr>\n",
       "      <th>1</th>\n",
       "      <td>UNI</td>\n",
       "      <td>9.918768e+07</td>\n",
       "      <td>3992451215</td>\n",
       "      <td>1000000000</td>\n",
       "      <td>PoS</td>\n",
       "      <td>Ethereum</td>\n",
       "    </tr>\n",
       "    <tr>\n",
       "      <th>2</th>\n",
       "      <td>WBTC</td>\n",
       "      <td>1.415410e+08</td>\n",
       "      <td>4237575489</td>\n",
       "      <td>163106</td>\n",
       "      <td>PoW</td>\n",
       "      <td>Ethereum</td>\n",
       "    </tr>\n",
       "    <tr>\n",
       "      <th>3</th>\n",
       "      <td>AVAX</td>\n",
       "      <td>2.197065e+08</td>\n",
       "      <td>4901630273</td>\n",
       "      <td>431804080</td>\n",
       "      <td>PoS</td>\n",
       "      <td>Avalanche</td>\n",
       "    </tr>\n",
       "    <tr>\n",
       "      <th>4</th>\n",
       "      <td>DAI</td>\n",
       "      <td>2.177113e+08</td>\n",
       "      <td>5513660644</td>\n",
       "      <td>5347888596</td>\n",
       "      <td>stablecoin</td>\n",
       "      <td>Ethereum</td>\n",
       "    </tr>\n",
       "  </tbody>\n",
       "</table>\n",
       "</div>"
      ],
      "text/plain": [
       "  Symbol        Volume   MarketCap  TotalSupply   ProofType    Network\n",
       "0    LEO  1.823284e+06  3586504072    985239504         PoS   Ethereum\n",
       "1    UNI  9.918768e+07  3992451215   1000000000         PoS   Ethereum\n",
       "2   WBTC  1.415410e+08  4237575489       163106         PoW   Ethereum\n",
       "3   AVAX  2.197065e+08  4901630273    431804080         PoS  Avalanche\n",
       "4    DAI  2.177113e+08  5513660644   5347888596  stablecoin   Ethereum"
      ]
     },
     "execution_count": 20,
     "metadata": {},
     "output_type": "execute_result"
    }
   ],
   "source": [
    "df.head()"
   ]
  },
  {
   "cell_type": "markdown",
   "metadata": {},
   "source": [
    "To convert categorical columns into integers:"
   ]
  },
  {
   "cell_type": "code",
   "execution_count": 40,
   "metadata": {},
   "outputs": [],
   "source": [
    "label_encoder = LabelEncoder()\n",
    "\n",
    "df_encoded = df.copy()\n",
    "df_encoded = pd.get_dummies(df_encoded, columns=[\"ProofType\", \"Network\"])\n",
    "# df_encoded[\"Symbol\"] = pd.get_dummies(df_encoded[\"Symbol\"], columns=[\"Symbol\"])\n",
    "# df_encoded[\"ProofType\"] = label_encoder.fit_transform(df_encoded[\"ProofType\"])\n",
    "# df_encoded[\"Network\"] = label_encoder.fit_transform(df_encoded[\"Network\"])"
   ]
  },
  {
   "cell_type": "code",
   "execution_count": 41,
   "metadata": {},
   "outputs": [
    {
     "name": "stdout",
     "output_type": "stream",
     "text": [
      "<class 'pandas.core.frame.DataFrame'>\n",
      "RangeIndex: 20 entries, 0 to 19\n",
      "Data columns (total 21 columns):\n",
      " #   Column                       Non-Null Count  Dtype  \n",
      "---  ------                       --------------  -----  \n",
      " 0   Symbol                       20 non-null     object \n",
      " 1   Volume                       20 non-null     float64\n",
      " 2   MarketCap                    20 non-null     int64  \n",
      " 3   TotalSupply                  20 non-null     Int64  \n",
      " 4   ProofType_PoH                20 non-null     bool   \n",
      " 5   ProofType_PoS                20 non-null     bool   \n",
      " 6   ProofType_PoW                20 non-null     bool   \n",
      " 7   ProofType_RPCA               20 non-null     bool   \n",
      " 8   ProofType_stablecoin         20 non-null     bool   \n",
      " 9   Network_Avalanche            20 non-null     bool   \n",
      " 10  Network_Binance Smart Chain  20 non-null     bool   \n",
      " 11  Network_Bitcoin              20 non-null     bool   \n",
      " 12  Network_Cardano              20 non-null     bool   \n",
      " 13  Network_Dogecoin             20 non-null     bool   \n",
      " 14  Network_Ethereum             20 non-null     bool   \n",
      " 15  Network_Litecoin             20 non-null     bool   \n",
      " 16  Network_Polkadot             20 non-null     bool   \n",
      " 17  Network_Polygon              20 non-null     bool   \n",
      " 18  Network_Solana               20 non-null     bool   \n",
      " 19  Network_Tron                 20 non-null     bool   \n",
      " 20  Network_XRP Ledger           20 non-null     bool   \n",
      "dtypes: Int64(1), bool(17), float64(1), int64(1), object(1)\n",
      "memory usage: 1.1+ KB\n"
     ]
    }
   ],
   "source": [
    "df_encoded.info()"
   ]
  },
  {
   "cell_type": "code",
   "execution_count": 42,
   "metadata": {},
   "outputs": [
    {
     "data": {
      "text/html": [
       "<div>\n",
       "<style scoped>\n",
       "    .dataframe tbody tr th:only-of-type {\n",
       "        vertical-align: middle;\n",
       "    }\n",
       "\n",
       "    .dataframe tbody tr th {\n",
       "        vertical-align: top;\n",
       "    }\n",
       "\n",
       "    .dataframe thead th {\n",
       "        text-align: right;\n",
       "    }\n",
       "</style>\n",
       "<table border=\"1\" class=\"dataframe\">\n",
       "  <thead>\n",
       "    <tr style=\"text-align: right;\">\n",
       "      <th></th>\n",
       "      <th>Symbol</th>\n",
       "      <th>Volume</th>\n",
       "      <th>MarketCap</th>\n",
       "      <th>TotalSupply</th>\n",
       "      <th>ProofType_PoH</th>\n",
       "      <th>ProofType_PoS</th>\n",
       "      <th>ProofType_PoW</th>\n",
       "      <th>ProofType_RPCA</th>\n",
       "      <th>ProofType_stablecoin</th>\n",
       "      <th>Network_Avalanche</th>\n",
       "      <th>...</th>\n",
       "      <th>Network_Bitcoin</th>\n",
       "      <th>Network_Cardano</th>\n",
       "      <th>Network_Dogecoin</th>\n",
       "      <th>Network_Ethereum</th>\n",
       "      <th>Network_Litecoin</th>\n",
       "      <th>Network_Polkadot</th>\n",
       "      <th>Network_Polygon</th>\n",
       "      <th>Network_Solana</th>\n",
       "      <th>Network_Tron</th>\n",
       "      <th>Network_XRP Ledger</th>\n",
       "    </tr>\n",
       "  </thead>\n",
       "  <tbody>\n",
       "    <tr>\n",
       "      <th>0</th>\n",
       "      <td>LEO</td>\n",
       "      <td>1.823284e+06</td>\n",
       "      <td>3586504072</td>\n",
       "      <td>985239504</td>\n",
       "      <td>False</td>\n",
       "      <td>True</td>\n",
       "      <td>False</td>\n",
       "      <td>False</td>\n",
       "      <td>False</td>\n",
       "      <td>False</td>\n",
       "      <td>...</td>\n",
       "      <td>False</td>\n",
       "      <td>False</td>\n",
       "      <td>False</td>\n",
       "      <td>True</td>\n",
       "      <td>False</td>\n",
       "      <td>False</td>\n",
       "      <td>False</td>\n",
       "      <td>False</td>\n",
       "      <td>False</td>\n",
       "      <td>False</td>\n",
       "    </tr>\n",
       "    <tr>\n",
       "      <th>1</th>\n",
       "      <td>UNI</td>\n",
       "      <td>9.918768e+07</td>\n",
       "      <td>3992451215</td>\n",
       "      <td>1000000000</td>\n",
       "      <td>False</td>\n",
       "      <td>True</td>\n",
       "      <td>False</td>\n",
       "      <td>False</td>\n",
       "      <td>False</td>\n",
       "      <td>False</td>\n",
       "      <td>...</td>\n",
       "      <td>False</td>\n",
       "      <td>False</td>\n",
       "      <td>False</td>\n",
       "      <td>True</td>\n",
       "      <td>False</td>\n",
       "      <td>False</td>\n",
       "      <td>False</td>\n",
       "      <td>False</td>\n",
       "      <td>False</td>\n",
       "      <td>False</td>\n",
       "    </tr>\n",
       "    <tr>\n",
       "      <th>2</th>\n",
       "      <td>WBTC</td>\n",
       "      <td>1.415410e+08</td>\n",
       "      <td>4237575489</td>\n",
       "      <td>163106</td>\n",
       "      <td>False</td>\n",
       "      <td>False</td>\n",
       "      <td>True</td>\n",
       "      <td>False</td>\n",
       "      <td>False</td>\n",
       "      <td>False</td>\n",
       "      <td>...</td>\n",
       "      <td>False</td>\n",
       "      <td>False</td>\n",
       "      <td>False</td>\n",
       "      <td>True</td>\n",
       "      <td>False</td>\n",
       "      <td>False</td>\n",
       "      <td>False</td>\n",
       "      <td>False</td>\n",
       "      <td>False</td>\n",
       "      <td>False</td>\n",
       "    </tr>\n",
       "    <tr>\n",
       "      <th>3</th>\n",
       "      <td>AVAX</td>\n",
       "      <td>2.197065e+08</td>\n",
       "      <td>4901630273</td>\n",
       "      <td>431804080</td>\n",
       "      <td>False</td>\n",
       "      <td>True</td>\n",
       "      <td>False</td>\n",
       "      <td>False</td>\n",
       "      <td>False</td>\n",
       "      <td>True</td>\n",
       "      <td>...</td>\n",
       "      <td>False</td>\n",
       "      <td>False</td>\n",
       "      <td>False</td>\n",
       "      <td>False</td>\n",
       "      <td>False</td>\n",
       "      <td>False</td>\n",
       "      <td>False</td>\n",
       "      <td>False</td>\n",
       "      <td>False</td>\n",
       "      <td>False</td>\n",
       "    </tr>\n",
       "    <tr>\n",
       "      <th>4</th>\n",
       "      <td>DAI</td>\n",
       "      <td>2.177113e+08</td>\n",
       "      <td>5513660644</td>\n",
       "      <td>5347888596</td>\n",
       "      <td>False</td>\n",
       "      <td>False</td>\n",
       "      <td>False</td>\n",
       "      <td>False</td>\n",
       "      <td>True</td>\n",
       "      <td>False</td>\n",
       "      <td>...</td>\n",
       "      <td>False</td>\n",
       "      <td>False</td>\n",
       "      <td>False</td>\n",
       "      <td>True</td>\n",
       "      <td>False</td>\n",
       "      <td>False</td>\n",
       "      <td>False</td>\n",
       "      <td>False</td>\n",
       "      <td>False</td>\n",
       "      <td>False</td>\n",
       "    </tr>\n",
       "  </tbody>\n",
       "</table>\n",
       "<p>5 rows × 21 columns</p>\n",
       "</div>"
      ],
      "text/plain": [
       "  Symbol        Volume   MarketCap  TotalSupply  ProofType_PoH  ProofType_PoS  \\\n",
       "0    LEO  1.823284e+06  3586504072    985239504          False           True   \n",
       "1    UNI  9.918768e+07  3992451215   1000000000          False           True   \n",
       "2   WBTC  1.415410e+08  4237575489       163106          False          False   \n",
       "3   AVAX  2.197065e+08  4901630273    431804080          False           True   \n",
       "4    DAI  2.177113e+08  5513660644   5347888596          False          False   \n",
       "\n",
       "   ProofType_PoW  ProofType_RPCA  ProofType_stablecoin  Network_Avalanche  \\\n",
       "0          False           False                 False              False   \n",
       "1          False           False                 False              False   \n",
       "2           True           False                 False              False   \n",
       "3          False           False                 False               True   \n",
       "4          False           False                  True              False   \n",
       "\n",
       "   ...  Network_Bitcoin  Network_Cardano  Network_Dogecoin  Network_Ethereum  \\\n",
       "0  ...            False            False             False              True   \n",
       "1  ...            False            False             False              True   \n",
       "2  ...            False            False             False              True   \n",
       "3  ...            False            False             False             False   \n",
       "4  ...            False            False             False              True   \n",
       "\n",
       "   Network_Litecoin  Network_Polkadot  Network_Polygon  Network_Solana  \\\n",
       "0             False             False            False           False   \n",
       "1             False             False            False           False   \n",
       "2             False             False            False           False   \n",
       "3             False             False            False           False   \n",
       "4             False             False            False           False   \n",
       "\n",
       "   Network_Tron  Network_XRP Ledger  \n",
       "0         False               False  \n",
       "1         False               False  \n",
       "2         False               False  \n",
       "3         False               False  \n",
       "4         False               False  \n",
       "\n",
       "[5 rows x 21 columns]"
      ]
     },
     "execution_count": 42,
     "metadata": {},
     "output_type": "execute_result"
    }
   ],
   "source": [
    "df_encoded.head()"
   ]
  },
  {
   "cell_type": "code",
   "execution_count": 43,
   "metadata": {},
   "outputs": [
    {
     "data": {
      "text/plain": [
       "Index(['Symbol', 'Volume', 'MarketCap', 'TotalSupply', 'ProofType_PoH',\n",
       "       'ProofType_PoS', 'ProofType_PoW', 'ProofType_RPCA',\n",
       "       'ProofType_stablecoin', 'Network_Avalanche',\n",
       "       'Network_Binance Smart Chain', 'Network_Bitcoin', 'Network_Cardano',\n",
       "       'Network_Dogecoin', 'Network_Ethereum', 'Network_Litecoin',\n",
       "       'Network_Polkadot', 'Network_Polygon', 'Network_Solana', 'Network_Tron',\n",
       "       'Network_XRP Ledger'],\n",
       "      dtype='object')"
      ]
     },
     "execution_count": 43,
     "metadata": {},
     "output_type": "execute_result"
    }
   ],
   "source": [
    "df_encoded.columns"
   ]
  },
  {
   "cell_type": "markdown",
   "metadata": {},
   "source": [
    "To standardizing columns:"
   ]
  },
  {
   "cell_type": "code",
   "execution_count": 62,
   "metadata": {},
   "outputs": [],
   "source": [
    "from sklearn.preprocessing import StandardScaler\n",
    "\n",
    "df_to_be_standard = df_encoded[['Volume', 'MarketCap', 'TotalSupply', 'ProofType_PoH',\n",
    "       'ProofType_PoS', 'ProofType_PoW', 'ProofType_RPCA',\n",
    "       'ProofType_stablecoin', 'Network_Avalanche',\n",
    "       'Network_Binance Smart Chain', 'Network_Bitcoin', 'Network_Cardano',\n",
    "       'Network_Dogecoin', 'Network_Ethereum', 'Network_Litecoin',\n",
    "       'Network_Polkadot', 'Network_Polygon', 'Network_Solana', 'Network_Tron',\n",
    "       'Network_XRP Ledger']]\n",
    "\n",
    "scaler = StandardScaler()\n",
    "scaled_data = scaler.fit_transform(df_to_be_standard)\n",
    "scaled_df = pd.DataFrame(scaled_data, columns=df_to_be_standard.columns)\n",
    "# scaled_df[\"Symbol\"] = df_encoded[\"Symbol\"]"
   ]
  },
  {
   "cell_type": "code",
   "execution_count": 49,
   "metadata": {},
   "outputs": [
    {
     "data": {
      "text/html": [
       "<div>\n",
       "<style scoped>\n",
       "    .dataframe tbody tr th:only-of-type {\n",
       "        vertical-align: middle;\n",
       "    }\n",
       "\n",
       "    .dataframe tbody tr th {\n",
       "        vertical-align: top;\n",
       "    }\n",
       "\n",
       "    .dataframe thead th {\n",
       "        text-align: right;\n",
       "    }\n",
       "</style>\n",
       "<table border=\"1\" class=\"dataframe\">\n",
       "  <thead>\n",
       "    <tr style=\"text-align: right;\">\n",
       "      <th></th>\n",
       "      <th>Volume</th>\n",
       "      <th>MarketCap</th>\n",
       "      <th>TotalSupply</th>\n",
       "      <th>ProofType_PoH</th>\n",
       "      <th>ProofType_PoS</th>\n",
       "      <th>ProofType_PoW</th>\n",
       "      <th>ProofType_RPCA</th>\n",
       "      <th>ProofType_stablecoin</th>\n",
       "      <th>Network_Avalanche</th>\n",
       "      <th>Network_Binance Smart Chain</th>\n",
       "      <th>Network_Bitcoin</th>\n",
       "      <th>Network_Cardano</th>\n",
       "      <th>Network_Dogecoin</th>\n",
       "      <th>Network_Ethereum</th>\n",
       "      <th>Network_Litecoin</th>\n",
       "      <th>Network_Polkadot</th>\n",
       "      <th>Network_Polygon</th>\n",
       "      <th>Network_Solana</th>\n",
       "      <th>Network_Tron</th>\n",
       "      <th>Network_XRP Ledger</th>\n",
       "    </tr>\n",
       "  </thead>\n",
       "  <tbody>\n",
       "    <tr>\n",
       "      <th>0</th>\n",
       "      <td>-0.471646</td>\n",
       "      <td>-0.414120</td>\n",
       "      <td>-0.229578</td>\n",
       "      <td>-0.229416</td>\n",
       "      <td>1.105542</td>\n",
       "      <td>-0.577350</td>\n",
       "      <td>-0.229416</td>\n",
       "      <td>-0.5</td>\n",
       "      <td>-0.229416</td>\n",
       "      <td>-0.333333</td>\n",
       "      <td>-0.229416</td>\n",
       "      <td>-0.229416</td>\n",
       "      <td>-0.229416</td>\n",
       "      <td>1.224745</td>\n",
       "      <td>-0.229416</td>\n",
       "      <td>-0.229416</td>\n",
       "      <td>-0.229416</td>\n",
       "      <td>-0.229416</td>\n",
       "      <td>-0.229416</td>\n",
       "      <td>-0.229416</td>\n",
       "    </tr>\n",
       "    <tr>\n",
       "      <th>1</th>\n",
       "      <td>-0.460130</td>\n",
       "      <td>-0.410214</td>\n",
       "      <td>-0.229578</td>\n",
       "      <td>-0.229416</td>\n",
       "      <td>1.105542</td>\n",
       "      <td>-0.577350</td>\n",
       "      <td>-0.229416</td>\n",
       "      <td>-0.5</td>\n",
       "      <td>-0.229416</td>\n",
       "      <td>-0.333333</td>\n",
       "      <td>-0.229416</td>\n",
       "      <td>-0.229416</td>\n",
       "      <td>-0.229416</td>\n",
       "      <td>1.224745</td>\n",
       "      <td>-0.229416</td>\n",
       "      <td>-0.229416</td>\n",
       "      <td>-0.229416</td>\n",
       "      <td>-0.229416</td>\n",
       "      <td>-0.229416</td>\n",
       "      <td>-0.229416</td>\n",
       "    </tr>\n",
       "    <tr>\n",
       "      <th>2</th>\n",
       "      <td>-0.455120</td>\n",
       "      <td>-0.407855</td>\n",
       "      <td>-0.229586</td>\n",
       "      <td>-0.229416</td>\n",
       "      <td>-0.904534</td>\n",
       "      <td>1.732051</td>\n",
       "      <td>-0.229416</td>\n",
       "      <td>-0.5</td>\n",
       "      <td>-0.229416</td>\n",
       "      <td>-0.333333</td>\n",
       "      <td>-0.229416</td>\n",
       "      <td>-0.229416</td>\n",
       "      <td>-0.229416</td>\n",
       "      <td>1.224745</td>\n",
       "      <td>-0.229416</td>\n",
       "      <td>-0.229416</td>\n",
       "      <td>-0.229416</td>\n",
       "      <td>-0.229416</td>\n",
       "      <td>-0.229416</td>\n",
       "      <td>-0.229416</td>\n",
       "    </tr>\n",
       "    <tr>\n",
       "      <th>3</th>\n",
       "      <td>-0.445875</td>\n",
       "      <td>-0.401465</td>\n",
       "      <td>-0.229582</td>\n",
       "      <td>-0.229416</td>\n",
       "      <td>1.105542</td>\n",
       "      <td>-0.577350</td>\n",
       "      <td>-0.229416</td>\n",
       "      <td>-0.5</td>\n",
       "      <td>4.358899</td>\n",
       "      <td>-0.333333</td>\n",
       "      <td>-0.229416</td>\n",
       "      <td>-0.229416</td>\n",
       "      <td>-0.229416</td>\n",
       "      <td>-0.816497</td>\n",
       "      <td>-0.229416</td>\n",
       "      <td>-0.229416</td>\n",
       "      <td>-0.229416</td>\n",
       "      <td>-0.229416</td>\n",
       "      <td>-0.229416</td>\n",
       "      <td>-0.229416</td>\n",
       "    </tr>\n",
       "    <tr>\n",
       "      <th>4</th>\n",
       "      <td>-0.446111</td>\n",
       "      <td>-0.395576</td>\n",
       "      <td>-0.229544</td>\n",
       "      <td>-0.229416</td>\n",
       "      <td>-0.904534</td>\n",
       "      <td>-0.577350</td>\n",
       "      <td>-0.229416</td>\n",
       "      <td>2.0</td>\n",
       "      <td>-0.229416</td>\n",
       "      <td>-0.333333</td>\n",
       "      <td>-0.229416</td>\n",
       "      <td>-0.229416</td>\n",
       "      <td>-0.229416</td>\n",
       "      <td>1.224745</td>\n",
       "      <td>-0.229416</td>\n",
       "      <td>-0.229416</td>\n",
       "      <td>-0.229416</td>\n",
       "      <td>-0.229416</td>\n",
       "      <td>-0.229416</td>\n",
       "      <td>-0.229416</td>\n",
       "    </tr>\n",
       "  </tbody>\n",
       "</table>\n",
       "</div>"
      ],
      "text/plain": [
       "     Volume  MarketCap  TotalSupply  ProofType_PoH  ProofType_PoS  \\\n",
       "0 -0.471646  -0.414120    -0.229578      -0.229416       1.105542   \n",
       "1 -0.460130  -0.410214    -0.229578      -0.229416       1.105542   \n",
       "2 -0.455120  -0.407855    -0.229586      -0.229416      -0.904534   \n",
       "3 -0.445875  -0.401465    -0.229582      -0.229416       1.105542   \n",
       "4 -0.446111  -0.395576    -0.229544      -0.229416      -0.904534   \n",
       "\n",
       "   ProofType_PoW  ProofType_RPCA  ProofType_stablecoin  Network_Avalanche  \\\n",
       "0      -0.577350       -0.229416                  -0.5          -0.229416   \n",
       "1      -0.577350       -0.229416                  -0.5          -0.229416   \n",
       "2       1.732051       -0.229416                  -0.5          -0.229416   \n",
       "3      -0.577350       -0.229416                  -0.5           4.358899   \n",
       "4      -0.577350       -0.229416                   2.0          -0.229416   \n",
       "\n",
       "   Network_Binance Smart Chain  Network_Bitcoin  Network_Cardano  \\\n",
       "0                    -0.333333        -0.229416        -0.229416   \n",
       "1                    -0.333333        -0.229416        -0.229416   \n",
       "2                    -0.333333        -0.229416        -0.229416   \n",
       "3                    -0.333333        -0.229416        -0.229416   \n",
       "4                    -0.333333        -0.229416        -0.229416   \n",
       "\n",
       "   Network_Dogecoin  Network_Ethereum  Network_Litecoin  Network_Polkadot  \\\n",
       "0         -0.229416          1.224745         -0.229416         -0.229416   \n",
       "1         -0.229416          1.224745         -0.229416         -0.229416   \n",
       "2         -0.229416          1.224745         -0.229416         -0.229416   \n",
       "3         -0.229416         -0.816497         -0.229416         -0.229416   \n",
       "4         -0.229416          1.224745         -0.229416         -0.229416   \n",
       "\n",
       "   Network_Polygon  Network_Solana  Network_Tron  Network_XRP Ledger  \n",
       "0        -0.229416       -0.229416     -0.229416           -0.229416  \n",
       "1        -0.229416       -0.229416     -0.229416           -0.229416  \n",
       "2        -0.229416       -0.229416     -0.229416           -0.229416  \n",
       "3        -0.229416       -0.229416     -0.229416           -0.229416  \n",
       "4        -0.229416       -0.229416     -0.229416           -0.229416  "
      ]
     },
     "execution_count": 49,
     "metadata": {},
     "output_type": "execute_result"
    }
   ],
   "source": [
    "scaled_df.head()"
   ]
  },
  {
   "cell_type": "markdown",
   "metadata": {},
   "source": [
    "Drawing Dendrograms:"
   ]
  },
  {
   "cell_type": "markdown",
   "metadata": {},
   "source": [
    "This is a diagram that is formed by considering all the columns:"
   ]
  },
  {
   "cell_type": "code",
   "execution_count": 50,
   "metadata": {},
   "outputs": [
    {
     "data": {
      "image/png": "[encoded data removed]",
      "text/plain": [
       "<Figure size 1300x400 with 1 Axes>"
      ]
     },
     "metadata": {},
     "output_type": "display_data"
    }
   ],
   "source": [
    "linkage_matrix0 = linkage(scaled_df, method='ward')\n",
    "\n",
    "plt.figure(figsize=(13, 4))\n",
    "dendrogram(linkage_matrix0, labels=df[\"Symbol\"].astype(str).values, orientation='top')\n",
    "plt.xlabel('Symbols')\n",
    "plt.ylabel('Distance')\n",
    "plt.title('Dendrogram considering all features')\n",
    "plt.show()\n"
   ]
  },
  {
   "cell_type": "code",
   "execution_count": 51,
   "metadata": {},
   "outputs": [
    {
     "data": {
      "text/plain": [
       "0       LEO\n",
       "1       UNI\n",
       "2      WBTC\n",
       "3      AVAX\n",
       "4       DAI\n",
       "5      SHIB\n",
       "6       LTC\n",
       "7       TRX\n",
       "8       DOT\n",
       "9     MATIC\n",
       "10      SOL\n",
       "11     DOGE\n",
       "12      ADA\n",
       "13     BUSD\n",
       "14      XRP\n",
       "15     USDC\n",
       "16      BNB\n",
       "17     USDT\n",
       "18      ETH\n",
       "19      BTC\n",
       "Name: Symbol, dtype: object"
      ]
     },
     "execution_count": 51,
     "metadata": {},
     "output_type": "execute_result"
    }
   ],
   "source": [
    "df[\"Symbol\"]"
   ]
  },
  {
   "cell_type": "markdown",
   "metadata": {},
   "source": [
    "# Part 1"
   ]
  },
  {
   "cell_type": "markdown",
   "metadata": {},
   "source": [
    "A diagram formed by considering only two columns, MarketCap and Volume:"
   ]
  },
  {
   "cell_type": "code",
   "execution_count": 52,
   "metadata": {},
   "outputs": [
    {
     "data": {
      "image/png": "[encoded data removed]",
      "text/plain": [
       "<Figure size 1300x400 with 1 Axes>"
      ]
     },
     "metadata": {},
     "output_type": "display_data"
    }
   ],
   "source": [
    "df_part1 = scaled_df[[\"MarketCap\", \"Volume\"]]\n",
    "\n",
    "linkage_matrix1 = linkage(df_part1, method='ward') \n",
    "\n",
    "plt.figure(figsize=(13, 4))\n",
    "dendrogram(linkage_matrix1, labels=df[\"Symbol\"].astype(str).values, orientation='top')\n",
    "plt.xlabel('Symbols')\n",
    "plt.ylabel('Distance')\n",
    "plt.title('Dendrogram with Columns MarketCap and Volume (Part 1)')\n",
    "plt.show()\n"
   ]
  },
  {
   "cell_type": "code",
   "execution_count": 53,
   "metadata": {},
   "outputs": [
    {
     "data": {
      "text/plain": [
       "array([1, 1, 1, 1, 1, 1, 1, 1, 1, 1, 1, 1, 1, 1, 1, 1, 1, 2, 1, 2],\n",
       "      dtype=int32)"
      ]
     },
     "execution_count": 53,
     "metadata": {},
     "output_type": "execute_result"
    }
   ],
   "source": [
    "from scipy.cluster.hierarchy import fcluster\n",
    "\n",
    "threshold = 5\n",
    "cluster_labels = fcluster(linkage_matrix1, threshold, criterion='distance')\n",
    "cluster_labels"
   ]
  },
  {
   "cell_type": "markdown",
   "metadata": {},
   "source": [
    "# Part 2"
   ]
  },
  {
   "cell_type": "markdown",
   "metadata": {},
   "source": [
    "To draw a diagram considering the columns MarketCap, Volume, and ProofType, all the columns derived from this column after applying the get_dummies function should be involved in drawing the chart:"
   ]
  },
  {
   "cell_type": "code",
   "execution_count": 54,
   "metadata": {},
   "outputs": [
    {
     "data": {
      "image/png": "[encoded data removed]",
      "text/plain": [
       "<Figure size 1300x400 with 1 Axes>"
      ]
     },
     "metadata": {},
     "output_type": "display_data"
    }
   ],
   "source": [
    "df_part2 = scaled_df[[\"MarketCap\", \"Volume\", \"ProofType_PoH\",\n",
    "       \"ProofType_PoS\", \"ProofType_PoW\", \"ProofType_RPCA\",\n",
    "       \"ProofType_stablecoin\"]]\n",
    "\n",
    "plt.figure(figsize=(13, 4))\n",
    "linkage_matrix2 = linkage(df_part2, method='ward') \n",
    "dendrogram(linkage_matrix2, labels=df[\"Symbol\"].astype(str).values, orientation='top')\n",
    "plt.xlabel('Symbols')\n",
    "plt.ylabel('Distance')\n",
    "plt.title('Dendrogram with Columns MarketCap and Volume and ProofType (Part 2)')\n",
    "plt.show()\n"
   ]
  },
  {
   "cell_type": "code",
   "execution_count": 55,
   "metadata": {},
   "outputs": [
    {
     "data": {
      "text/plain": [
       "array([1, 1, 2, 1, 2, 1, 2, 1, 2, 1, 2, 2, 1, 2, 2, 2, 1, 2, 1, 2],\n",
       "      dtype=int32)"
      ]
     },
     "execution_count": 55,
     "metadata": {},
     "output_type": "execute_result"
    }
   ],
   "source": [
    "from scipy.cluster.hierarchy import fcluster\n",
    "\n",
    "threshold = 7.7\n",
    "cluster_labels = fcluster(linkage_matrix2, threshold, criterion='distance')\n",
    "cluster_labels"
   ]
  },
  {
   "cell_type": "markdown",
   "metadata": {},
   "source": [
    "# Part 3"
   ]
  },
  {
   "cell_type": "code",
   "execution_count": 56,
   "metadata": {},
   "outputs": [
    {
     "data": {
      "text/plain": [
       "Index(['Volume', 'MarketCap', 'TotalSupply', 'ProofType_PoH', 'ProofType_PoS',\n",
       "       'ProofType_PoW', 'ProofType_RPCA', 'ProofType_stablecoin',\n",
       "       'Network_Avalanche', 'Network_Binance Smart Chain', 'Network_Bitcoin',\n",
       "       'Network_Cardano', 'Network_Dogecoin', 'Network_Ethereum',\n",
       "       'Network_Litecoin', 'Network_Polkadot', 'Network_Polygon',\n",
       "       'Network_Solana', 'Network_Tron', 'Network_XRP Ledger'],\n",
       "      dtype='object')"
      ]
     },
     "execution_count": 56,
     "metadata": {},
     "output_type": "execute_result"
    }
   ],
   "source": [
    "scaled_df.columns"
   ]
  },
  {
   "cell_type": "markdown",
   "metadata": {},
   "source": [
    "This time, in addition to the columns from the previous stage, two columns, Network and TotalSupply, have been included in the calculations. Regarding the Network column, just like in the previous stage, all the columns derived from it are used for drawing the chart."
   ]
  },
  {
   "cell_type": "code",
   "execution_count": 58,
   "metadata": {},
   "outputs": [
    {
     "data": {
      "image/png": "[encoded data removed]",
      "text/plain": [
       "<Figure size 1300x400 with 1 Axes>"
      ]
     },
     "metadata": {},
     "output_type": "display_data"
    }
   ],
   "source": [
    "df_part3 = scaled_df[['Volume', 'MarketCap', 'TotalSupply', 'ProofType_PoH', 'ProofType_PoS',\n",
    "       'ProofType_PoW', 'ProofType_RPCA', 'ProofType_stablecoin',\n",
    "       'Network_Avalanche', 'Network_Binance Smart Chain', 'Network_Bitcoin',\n",
    "       'Network_Cardano', 'Network_Dogecoin', 'Network_Ethereum',\n",
    "       'Network_Litecoin', 'Network_Polkadot', 'Network_Polygon',\n",
    "       'Network_Solana', 'Network_Tron', 'Network_XRP Ledger']]\n",
    "\n",
    "plt.figure(figsize=(13, 4))\n",
    "linkage_matrix3 = linkage(df_part3, method='ward') \n",
    "dendrogram(linkage_matrix3, labels=df[\"Symbol\"].astype(str).values, orientation='top')\n",
    "plt.xlabel('Symbols')\n",
    "plt.ylabel('Distance')\n",
    "plt.title('Dendrogram with Columns MarketCap, Volume, ProofType, Network, and TotalSupply (Part 3)')\n",
    "plt.show()\n"
   ]
  },
  {
   "cell_type": "code",
   "execution_count": 61,
   "metadata": {},
   "outputs": [
    {
     "data": {
      "text/plain": [
       "array([1, 1, 1, 1, 1, 1, 1, 1, 1, 1, 1, 1, 1, 1, 1, 1, 1, 1, 1, 2],\n",
       "      dtype=int32)"
      ]
     },
     "execution_count": 61,
     "metadata": {},
     "output_type": "execute_result"
    }
   ],
   "source": [
    "threshold = 9.6\n",
    "cluster_labels = fcluster(linkage_matrix3, threshold, criterion='distance')\n",
    "cluster_labels"
   ]
  }
 ],
 "metadata": {
  "kernelspec": {
   "display_name": "Python 3",
   "language": "python",
   "name": "python3"
  },
  "language_info": {
   "codemirror_mode": {
    "name": "ipython",
    "version": 3
   },
   "file_extension": ".py",
   "mimetype": "text/x-python",
   "name": "python",
   "nbconvert_exporter": "python",
   "pygments_lexer": "ipython3",
   "version": "3.9.17"
  },
  "orig_nbformat": 4
 },
 "nbformat": 4,
 "nbformat_minor": 2
}
